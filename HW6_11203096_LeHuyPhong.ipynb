{
 "cells": [
  {
   "cell_type": "code",
   "execution_count": null,
   "metadata": {
    "colab": {
     "base_uri": "https://localhost:8080/"
    },
    "id": "LRjzUSmQCiSk",
    "outputId": "8e8a8e60-70d5-47cb-c1fb-23c186cf3bf4"
   },
   "outputs": [
    {
     "name": "stdout",
     "output_type": "stream",
     "text": [
      "Downloading http://fashion-mnist.s3-website.eu-central-1.amazonaws.com/train-images-idx3-ubyte.gz\n",
      "Downloading http://fashion-mnist.s3-website.eu-central-1.amazonaws.com/train-images-idx3-ubyte.gz to ./data/FashionMNIST/raw/train-images-idx3-ubyte.gz\n"
     ]
    },
    {
     "name": "stderr",
     "output_type": "stream",
     "text": [
      "100%|██████████| 26421880/26421880 [00:01<00:00, 18698696.62it/s]\n"
     ]
    },
    {
     "name": "stdout",
     "output_type": "stream",
     "text": [
      "Extracting ./data/FashionMNIST/raw/train-images-idx3-ubyte.gz to ./data/FashionMNIST/raw\n",
      "\n",
      "Downloading http://fashion-mnist.s3-website.eu-central-1.amazonaws.com/train-labels-idx1-ubyte.gz\n",
      "Downloading http://fashion-mnist.s3-website.eu-central-1.amazonaws.com/train-labels-idx1-ubyte.gz to ./data/FashionMNIST/raw/train-labels-idx1-ubyte.gz\n"
     ]
    },
    {
     "name": "stderr",
     "output_type": "stream",
     "text": [
      "100%|██████████| 29515/29515 [00:00<00:00, 323233.52it/s]\n"
     ]
    },
    {
     "name": "stdout",
     "output_type": "stream",
     "text": [
      "Extracting ./data/FashionMNIST/raw/train-labels-idx1-ubyte.gz to ./data/FashionMNIST/raw\n",
      "\n",
      "Downloading http://fashion-mnist.s3-website.eu-central-1.amazonaws.com/t10k-images-idx3-ubyte.gz\n",
      "Downloading http://fashion-mnist.s3-website.eu-central-1.amazonaws.com/t10k-images-idx3-ubyte.gz to ./data/FashionMNIST/raw/t10k-images-idx3-ubyte.gz\n"
     ]
    },
    {
     "name": "stderr",
     "output_type": "stream",
     "text": [
      "100%|██████████| 4422102/4422102 [00:00<00:00, 5422097.52it/s]\n"
     ]
    },
    {
     "name": "stdout",
     "output_type": "stream",
     "text": [
      "Extracting ./data/FashionMNIST/raw/t10k-images-idx3-ubyte.gz to ./data/FashionMNIST/raw\n",
      "\n",
      "Downloading http://fashion-mnist.s3-website.eu-central-1.amazonaws.com/t10k-labels-idx1-ubyte.gz\n",
      "Downloading http://fashion-mnist.s3-website.eu-central-1.amazonaws.com/t10k-labels-idx1-ubyte.gz to ./data/FashionMNIST/raw/t10k-labels-idx1-ubyte.gz\n"
     ]
    },
    {
     "name": "stderr",
     "output_type": "stream",
     "text": [
      "100%|██████████| 5148/5148 [00:00<00:00, 919837.99it/s]\n"
     ]
    },
    {
     "name": "stdout",
     "output_type": "stream",
     "text": [
      "Extracting ./data/FashionMNIST/raw/t10k-labels-idx1-ubyte.gz to ./data/FashionMNIST/raw\n",
      "\n"
     ]
    }
   ],
   "source": [
    "import torch\n",
    "import torch.nn as nn\n",
    "import torch.optim as optim\n",
    "from torch.utils.data import DataLoader\n",
    "from torchvision import datasets, transforms\n",
    "import matplotlib.pyplot as plt\n",
    "\n",
    "# Thiết lập các thông số\n",
    "batch_size = 32 #100\n",
    "image_size = 28\n",
    "num_channels = 1\n",
    "latent_size = 100  # Kích thước của vector nhiễu đầu vào cho GAN\n",
    "\n",
    "# Tải và chuẩn bị dữ liệu\n",
    "transform = transforms.Compose([\n",
    "    transforms.ToTensor(),\n",
    "    transforms.Normalize((0.5,), (0.5,))\n",
    "])\n",
    "\n",
    "# Fashion-MNIST dataset từ torchvision\n",
    "train_data = datasets.FashionMNIST(root='./data', train=True, download=True, transform=transform)\n",
    "data_loader = DataLoader(train_data, batch_size=batch_size, shuffle=True)\n"
   ]
  },
  {
   "cell_type": "code",
   "execution_count": null,
   "metadata": {
    "id": "Zp6sf4FvCi6c"
   },
   "outputs": [],
   "source": [
    "class Generator(nn.Module):\n",
    "    def __init__(self, latent_size, num_channels, image_size):\n",
    "        super(Generator, self).__init__()\n",
    "        self.image_size = image_size\n",
    "\n",
    "        self.model = nn.Sequential(\n",
    "            nn.Linear(latent_size, 256),\n",
    "            nn.BatchNorm1d(256),\n",
    "            nn.ReLU(),\n",
    "            nn.Linear(256, 512),\n",
    "            nn.BatchNorm1d(512),\n",
    "            nn.ReLU(),\n",
    "            nn.Linear(512, 1024),\n",
    "            nn.BatchNorm1d(1024),\n",
    "            nn.ReLU(),\n",
    "            nn.Linear(1024, num_channels * image_size * image_size),\n",
    "            nn.Tanh()\n",
    "        )\n",
    "\n",
    "    def forward(self, z):\n",
    "        img = self.model(z)\n",
    "        return img.view(img.size(0), self.image_size, self.image_size, num_channels)\n"
   ]
  },
  {
   "cell_type": "code",
   "execution_count": null,
   "metadata": {
    "id": "jdMqIRgHCkrZ"
   },
   "outputs": [],
   "source": [
    "class Discriminator(nn.Module):\n",
    "    def __init__(self, num_channels, image_size):\n",
    "        super(Discriminator, self).__init__()\n",
    "        self.model = nn.Sequential(\n",
    "            nn.Linear(num_channels * image_size * image_size, 1024),\n",
    "            nn.LeakyReLU(0.2),\n",
    "            nn.Linear(1024, 512),\n",
    "            nn.LeakyReLU(0.2),\n",
    "            nn.Linear(512, 256),\n",
    "            nn.LeakyReLU(0.2),\n",
    "            nn.Linear(256, 1),\n",
    "            nn.Sigmoid()\n",
    "        )\n",
    "\n",
    "    def forward(self, img):\n",
    "        img_flat = img.view(img.size(0), -1)\n",
    "        validity = self.model(img_flat)\n",
    "        return validity\n"
   ]
  },
  {
   "cell_type": "code",
   "execution_count": null,
   "metadata": {
    "id": "zhASVUD_CnEp"
   },
   "outputs": [],
   "source": [
    "class cGAN(nn.Module):\n",
    "    def __init__(self, generator, discriminator):\n",
    "        super(cGAN, self).__init__()\n",
    "        self.generator = generator\n",
    "        self.discriminator = discriminator\n",
    "\n",
    "    def forward(self, z):\n",
    "        gen_imgs = self.generator(z)\n",
    "        validity = self.discriminator(gen_imgs)\n",
    "        return validity, gen_imgs\n"
   ]
  },
  {
   "cell_type": "code",
   "execution_count": null,
   "metadata": {
    "colab": {
     "base_uri": "https://localhost:8080/"
    },
    "id": "vx69n-jsCog6",
    "outputId": "83d3417c-c1f6-4842-efaa-6cc8b1f1e05d"
   },
   "outputs": [
    {
     "name": "stdout",
     "output_type": "stream",
     "text": [
      "[Epoch 0/10] [Batch 0/1875] [D loss: 0.6997385025024414] [G loss: 0.6828347444534302]\n",
      "[Epoch 0/10] [Batch 100/1875] [D loss: 0.32996803522109985] [G loss: 3.225648880004883]\n",
      "[Epoch 0/10] [Batch 200/1875] [D loss: 0.6210465431213379] [G loss: 2.058178663253784]\n",
      "[Epoch 0/10] [Batch 300/1875] [D loss: 0.4239850640296936] [G loss: 2.4694926738739014]\n",
      "[Epoch 0/10] [Batch 400/1875] [D loss: 0.5436300039291382] [G loss: 2.7170779705047607]\n",
      "[Epoch 0/10] [Batch 500/1875] [D loss: 0.4350687861442566] [G loss: 1.9119446277618408]\n",
      "[Epoch 0/10] [Batch 600/1875] [D loss: 0.6916693449020386] [G loss: 2.5703091621398926]\n",
      "[Epoch 0/10] [Batch 700/1875] [D loss: 0.4044649600982666] [G loss: 2.115946054458618]\n",
      "[Epoch 0/10] [Batch 800/1875] [D loss: 0.49662554264068604] [G loss: 1.8209400177001953]\n",
      "[Epoch 0/10] [Batch 900/1875] [D loss: 0.5750242471694946] [G loss: 0.9466201663017273]\n",
      "[Epoch 0/10] [Batch 1000/1875] [D loss: 0.5600942373275757] [G loss: 1.341071605682373]\n",
      "[Epoch 0/10] [Batch 1100/1875] [D loss: 0.587748646736145] [G loss: 2.771207332611084]\n",
      "[Epoch 0/10] [Batch 1200/1875] [D loss: 0.5583585500717163] [G loss: 1.2660176753997803]\n",
      "[Epoch 0/10] [Batch 1300/1875] [D loss: 0.4520244598388672] [G loss: 2.1111927032470703]\n",
      "[Epoch 0/10] [Batch 1400/1875] [D loss: 0.5338351130485535] [G loss: 1.2117023468017578]\n",
      "[Epoch 0/10] [Batch 1500/1875] [D loss: 0.6003775596618652] [G loss: 1.6360384225845337]\n",
      "[Epoch 0/10] [Batch 1600/1875] [D loss: 0.588347315788269] [G loss: 1.4700618982315063]\n",
      "[Epoch 0/10] [Batch 1700/1875] [D loss: 0.5125905275344849] [G loss: 1.7997814416885376]\n",
      "[Epoch 0/10] [Batch 1800/1875] [D loss: 0.5597788691520691] [G loss: 1.9766391515731812]\n",
      "[Epoch 1/10] [Batch 0/1875] [D loss: 0.5444509983062744] [G loss: 1.9284569025039673]\n",
      "[Epoch 1/10] [Batch 100/1875] [D loss: 0.4949134886264801] [G loss: 1.6388906240463257]\n",
      "[Epoch 1/10] [Batch 200/1875] [D loss: 0.5814403295516968] [G loss: 1.6226285696029663]\n",
      "[Epoch 1/10] [Batch 300/1875] [D loss: 0.6058975458145142] [G loss: 1.9101009368896484]\n",
      "[Epoch 1/10] [Batch 400/1875] [D loss: 0.5346616506576538] [G loss: 1.2196407318115234]\n",
      "[Epoch 1/10] [Batch 500/1875] [D loss: 0.5191935300827026] [G loss: 1.3838210105895996]\n",
      "[Epoch 1/10] [Batch 600/1875] [D loss: 0.5764132738113403] [G loss: 1.1178247928619385]\n",
      "[Epoch 1/10] [Batch 700/1875] [D loss: 0.629307210445404] [G loss: 1.5858659744262695]\n",
      "[Epoch 1/10] [Batch 800/1875] [D loss: 0.6199548840522766] [G loss: 2.18213152885437]\n",
      "[Epoch 1/10] [Batch 900/1875] [D loss: 0.5701252222061157] [G loss: 1.2097795009613037]\n",
      "[Epoch 1/10] [Batch 1000/1875] [D loss: 0.5498205423355103] [G loss: 1.723680853843689]\n",
      "[Epoch 1/10] [Batch 1100/1875] [D loss: 0.60166335105896] [G loss: 0.8328741192817688]\n",
      "[Epoch 1/10] [Batch 1200/1875] [D loss: 0.6780351996421814] [G loss: 1.1181749105453491]\n",
      "[Epoch 1/10] [Batch 1300/1875] [D loss: 0.6483239531517029] [G loss: 0.9698301553726196]\n",
      "[Epoch 1/10] [Batch 1400/1875] [D loss: 0.5829609632492065] [G loss: 1.943052887916565]\n",
      "[Epoch 1/10] [Batch 1500/1875] [D loss: 0.5796705484390259] [G loss: 1.3578996658325195]\n",
      "[Epoch 1/10] [Batch 1600/1875] [D loss: 0.5968198180198669] [G loss: 1.4390549659729004]\n",
      "[Epoch 1/10] [Batch 1700/1875] [D loss: 0.6317368745803833] [G loss: 1.2994310855865479]\n",
      "[Epoch 1/10] [Batch 1800/1875] [D loss: 0.5878193378448486] [G loss: 1.4154293537139893]\n",
      "[Epoch 2/10] [Batch 0/1875] [D loss: 0.6428300142288208] [G loss: 1.1289310455322266]\n",
      "[Epoch 2/10] [Batch 100/1875] [D loss: 0.6177013516426086] [G loss: 1.2425627708435059]\n",
      "[Epoch 2/10] [Batch 200/1875] [D loss: 0.5639441609382629] [G loss: 1.311288833618164]\n",
      "[Epoch 2/10] [Batch 300/1875] [D loss: 0.5760675072669983] [G loss: 1.2680250406265259]\n",
      "[Epoch 2/10] [Batch 400/1875] [D loss: 0.5972204208374023] [G loss: 1.0953876972198486]\n",
      "[Epoch 2/10] [Batch 500/1875] [D loss: 0.5510321855545044] [G loss: 1.4600178003311157]\n",
      "[Epoch 2/10] [Batch 600/1875] [D loss: 0.5458170175552368] [G loss: 1.3909574747085571]\n",
      "[Epoch 2/10] [Batch 700/1875] [D loss: 0.5642085075378418] [G loss: 1.2018311023712158]\n",
      "[Epoch 2/10] [Batch 800/1875] [D loss: 0.623809814453125] [G loss: 1.6975524425506592]\n",
      "[Epoch 2/10] [Batch 900/1875] [D loss: 0.5659997463226318] [G loss: 1.340652346611023]\n",
      "[Epoch 2/10] [Batch 1000/1875] [D loss: 0.5229964256286621] [G loss: 1.4854450225830078]\n",
      "[Epoch 2/10] [Batch 1100/1875] [D loss: 0.6607062220573425] [G loss: 1.0696274042129517]\n",
      "[Epoch 2/10] [Batch 1200/1875] [D loss: 0.7243536710739136] [G loss: 1.1768746376037598]\n",
      "[Epoch 2/10] [Batch 1300/1875] [D loss: 0.48204100131988525] [G loss: 1.4947497844696045]\n",
      "[Epoch 2/10] [Batch 1400/1875] [D loss: 0.7297213673591614] [G loss: 0.8980603218078613]\n",
      "[Epoch 2/10] [Batch 1500/1875] [D loss: 0.5940609574317932] [G loss: 1.31290602684021]\n",
      "[Epoch 2/10] [Batch 1600/1875] [D loss: 0.5666880011558533] [G loss: 1.6382352113723755]\n",
      "[Epoch 2/10] [Batch 1700/1875] [D loss: 0.5554885268211365] [G loss: 1.0792372226715088]\n",
      "[Epoch 2/10] [Batch 1800/1875] [D loss: 0.5766196250915527] [G loss: 1.2896606922149658]\n",
      "[Epoch 3/10] [Batch 0/1875] [D loss: 0.5966521501541138] [G loss: 0.7610928416252136]\n",
      "[Epoch 3/10] [Batch 100/1875] [D loss: 0.7260419726371765] [G loss: 0.9021300077438354]\n",
      "[Epoch 3/10] [Batch 200/1875] [D loss: 0.6943256855010986] [G loss: 1.534029483795166]\n",
      "[Epoch 3/10] [Batch 300/1875] [D loss: 0.6388461589813232] [G loss: 0.9475922584533691]\n",
      "[Epoch 3/10] [Batch 400/1875] [D loss: 0.6053922772407532] [G loss: 1.0602562427520752]\n",
      "[Epoch 3/10] [Batch 500/1875] [D loss: 0.634109377861023] [G loss: 1.1627473831176758]\n",
      "[Epoch 3/10] [Batch 600/1875] [D loss: 0.688384473323822] [G loss: 0.910497784614563]\n",
      "[Epoch 3/10] [Batch 700/1875] [D loss: 0.6401392221450806] [G loss: 1.0724588632583618]\n",
      "[Epoch 3/10] [Batch 800/1875] [D loss: 0.69389808177948] [G loss: 1.3193409442901611]\n",
      "[Epoch 3/10] [Batch 900/1875] [D loss: 0.5812362432479858] [G loss: 1.2660768032073975]\n",
      "[Epoch 3/10] [Batch 1000/1875] [D loss: 0.5848088264465332] [G loss: 1.7817983627319336]\n",
      "[Epoch 3/10] [Batch 1100/1875] [D loss: 0.6427794694900513] [G loss: 1.0174992084503174]\n",
      "[Epoch 3/10] [Batch 1200/1875] [D loss: 0.6561309695243835] [G loss: 0.9250956773757935]\n",
      "[Epoch 3/10] [Batch 1300/1875] [D loss: 0.5922335386276245] [G loss: 1.2752388715744019]\n",
      "[Epoch 3/10] [Batch 1400/1875] [D loss: 0.6512660384178162] [G loss: 0.9671979546546936]\n",
      "[Epoch 3/10] [Batch 1500/1875] [D loss: 0.569887638092041] [G loss: 1.1274609565734863]\n",
      "[Epoch 3/10] [Batch 1600/1875] [D loss: 0.6238155961036682] [G loss: 1.0581247806549072]\n",
      "[Epoch 3/10] [Batch 1700/1875] [D loss: 0.6550664305686951] [G loss: 1.1265803575515747]\n",
      "[Epoch 3/10] [Batch 1800/1875] [D loss: 0.6515795588493347] [G loss: 0.8337286710739136]\n",
      "[Epoch 4/10] [Batch 0/1875] [D loss: 0.6482143402099609] [G loss: 1.3628673553466797]\n",
      "[Epoch 4/10] [Batch 100/1875] [D loss: 0.6624830961227417] [G loss: 1.1143070459365845]\n",
      "[Epoch 4/10] [Batch 200/1875] [D loss: 0.6393647789955139] [G loss: 1.5678383111953735]\n",
      "[Epoch 4/10] [Batch 300/1875] [D loss: 0.6449143886566162] [G loss: 1.25564706325531]\n",
      "[Epoch 4/10] [Batch 400/1875] [D loss: 0.5446118116378784] [G loss: 1.234161376953125]\n",
      "[Epoch 4/10] [Batch 500/1875] [D loss: 0.6609419584274292] [G loss: 1.3785687685012817]\n",
      "[Epoch 4/10] [Batch 600/1875] [D loss: 0.5780876874923706] [G loss: 0.9805845618247986]\n",
      "[Epoch 4/10] [Batch 700/1875] [D loss: 0.6454308032989502] [G loss: 1.1653145551681519]\n",
      "[Epoch 4/10] [Batch 800/1875] [D loss: 0.6308691501617432] [G loss: 1.058674693107605]\n",
      "[Epoch 4/10] [Batch 900/1875] [D loss: 0.6210229396820068] [G loss: 1.1241405010223389]\n",
      "[Epoch 4/10] [Batch 1000/1875] [D loss: 0.612488865852356] [G loss: 1.00691819190979]\n",
      "[Epoch 4/10] [Batch 1100/1875] [D loss: 0.6437252759933472] [G loss: 1.0257819890975952]\n",
      "[Epoch 4/10] [Batch 1200/1875] [D loss: 0.5427066087722778] [G loss: 1.1794863939285278]\n",
      "[Epoch 4/10] [Batch 1300/1875] [D loss: 0.7213448882102966] [G loss: 0.9187273383140564]\n",
      "[Epoch 4/10] [Batch 1400/1875] [D loss: 0.5992311239242554] [G loss: 1.2994368076324463]\n",
      "[Epoch 4/10] [Batch 1500/1875] [D loss: 0.607978343963623] [G loss: 1.2335312366485596]\n",
      "[Epoch 4/10] [Batch 1600/1875] [D loss: 0.6116900444030762] [G loss: 1.1386990547180176]\n",
      "[Epoch 4/10] [Batch 1700/1875] [D loss: 0.6313642263412476] [G loss: 0.87935471534729]\n",
      "[Epoch 4/10] [Batch 1800/1875] [D loss: 0.6492853760719299] [G loss: 1.3086590766906738]\n",
      "[Epoch 5/10] [Batch 0/1875] [D loss: 0.6222326755523682] [G loss: 1.0770686864852905]\n",
      "[Epoch 5/10] [Batch 100/1875] [D loss: 0.6400375366210938] [G loss: 0.9359142184257507]\n",
      "[Epoch 5/10] [Batch 200/1875] [D loss: 0.597045361995697] [G loss: 1.168386459350586]\n",
      "[Epoch 5/10] [Batch 300/1875] [D loss: 0.6460628509521484] [G loss: 1.0031774044036865]\n",
      "[Epoch 5/10] [Batch 400/1875] [D loss: 0.641463041305542] [G loss: 1.2787631750106812]\n",
      "[Epoch 5/10] [Batch 500/1875] [D loss: 0.5936518907546997] [G loss: 1.0118743181228638]\n",
      "[Epoch 5/10] [Batch 600/1875] [D loss: 0.5598599910736084] [G loss: 1.1442172527313232]\n",
      "[Epoch 5/10] [Batch 700/1875] [D loss: 0.6003201603889465] [G loss: 0.9771518707275391]\n",
      "[Epoch 5/10] [Batch 800/1875] [D loss: 0.5941992998123169] [G loss: 1.2917306423187256]\n",
      "[Epoch 5/10] [Batch 900/1875] [D loss: 0.6874810457229614] [G loss: 1.060313105583191]\n",
      "[Epoch 5/10] [Batch 1000/1875] [D loss: 0.6713153123855591] [G loss: 0.8655856251716614]\n",
      "[Epoch 5/10] [Batch 1100/1875] [D loss: 0.7105456590652466] [G loss: 1.0379054546356201]\n",
      "[Epoch 5/10] [Batch 1200/1875] [D loss: 0.6015537977218628] [G loss: 1.1474556922912598]\n",
      "[Epoch 5/10] [Batch 1300/1875] [D loss: 0.602238655090332] [G loss: 1.1106648445129395]\n",
      "[Epoch 5/10] [Batch 1400/1875] [D loss: 0.6701686978340149] [G loss: 1.061226487159729]\n",
      "[Epoch 5/10] [Batch 1500/1875] [D loss: 0.6029171943664551] [G loss: 0.902519166469574]\n",
      "[Epoch 5/10] [Batch 1600/1875] [D loss: 0.6201304197311401] [G loss: 1.2077521085739136]\n",
      "[Epoch 5/10] [Batch 1700/1875] [D loss: 0.625921368598938] [G loss: 0.9681901931762695]\n",
      "[Epoch 5/10] [Batch 1800/1875] [D loss: 0.6240791082382202] [G loss: 0.9416013360023499]\n",
      "[Epoch 6/10] [Batch 0/1875] [D loss: 0.5945892333984375] [G loss: 1.1980278491973877]\n",
      "[Epoch 6/10] [Batch 100/1875] [D loss: 0.6216655373573303] [G loss: 0.9709984660148621]\n",
      "[Epoch 6/10] [Batch 200/1875] [D loss: 0.6037536859512329] [G loss: 1.0256609916687012]\n",
      "[Epoch 6/10] [Batch 300/1875] [D loss: 0.6407889127731323] [G loss: 0.9453262686729431]\n",
      "[Epoch 6/10] [Batch 400/1875] [D loss: 0.6440960168838501] [G loss: 0.8197101354598999]\n",
      "[Epoch 6/10] [Batch 500/1875] [D loss: 0.6479425430297852] [G loss: 1.1815924644470215]\n",
      "[Epoch 6/10] [Batch 600/1875] [D loss: 0.6576625108718872] [G loss: 0.9524644613265991]\n",
      "[Epoch 6/10] [Batch 700/1875] [D loss: 0.6251933574676514] [G loss: 1.1454217433929443]\n",
      "[Epoch 6/10] [Batch 800/1875] [D loss: 0.6420197486877441] [G loss: 0.9245699048042297]\n",
      "[Epoch 6/10] [Batch 900/1875] [D loss: 0.659337043762207] [G loss: 0.9782347679138184]\n",
      "[Epoch 6/10] [Batch 1000/1875] [D loss: 0.710519552230835] [G loss: 1.097145915031433]\n",
      "[Epoch 6/10] [Batch 1100/1875] [D loss: 0.7067630290985107] [G loss: 0.8547304272651672]\n",
      "[Epoch 6/10] [Batch 1200/1875] [D loss: 0.619806170463562] [G loss: 0.934346616268158]\n",
      "[Epoch 6/10] [Batch 1300/1875] [D loss: 0.6877032518386841] [G loss: 0.9580437541007996]\n",
      "[Epoch 6/10] [Batch 1400/1875] [D loss: 0.6150230169296265] [G loss: 0.9750410914421082]\n",
      "[Epoch 6/10] [Batch 1500/1875] [D loss: 0.6801164150238037] [G loss: 1.0192309617996216]\n",
      "[Epoch 6/10] [Batch 1600/1875] [D loss: 0.6846853494644165] [G loss: 1.0426025390625]\n",
      "[Epoch 6/10] [Batch 1700/1875] [D loss: 0.702256441116333] [G loss: 0.9949769973754883]\n",
      "[Epoch 6/10] [Batch 1800/1875] [D loss: 0.6122735738754272] [G loss: 0.9649678468704224]\n",
      "[Epoch 7/10] [Batch 0/1875] [D loss: 0.6606563329696655] [G loss: 0.9925879240036011]\n",
      "[Epoch 7/10] [Batch 100/1875] [D loss: 0.645024299621582] [G loss: 1.1773008108139038]\n",
      "[Epoch 7/10] [Batch 200/1875] [D loss: 0.6401375532150269] [G loss: 0.9153751134872437]\n",
      "[Epoch 7/10] [Batch 300/1875] [D loss: 0.6913763284683228] [G loss: 0.7943583130836487]\n",
      "[Epoch 7/10] [Batch 400/1875] [D loss: 0.6126323938369751] [G loss: 0.9672577381134033]\n",
      "[Epoch 7/10] [Batch 500/1875] [D loss: 0.6328074336051941] [G loss: 0.8277608156204224]\n",
      "[Epoch 7/10] [Batch 600/1875] [D loss: 0.6587098836898804] [G loss: 0.9728575944900513]\n",
      "[Epoch 7/10] [Batch 700/1875] [D loss: 0.6348565220832825] [G loss: 1.0257412195205688]\n",
      "[Epoch 7/10] [Batch 800/1875] [D loss: 0.6972013711929321] [G loss: 1.0081510543823242]\n",
      "[Epoch 7/10] [Batch 900/1875] [D loss: 0.6671993732452393] [G loss: 1.0182048082351685]\n",
      "[Epoch 7/10] [Batch 1000/1875] [D loss: 0.5881868600845337] [G loss: 0.9943587183952332]\n",
      "[Epoch 7/10] [Batch 1100/1875] [D loss: 0.6022422313690186] [G loss: 1.1161322593688965]\n",
      "[Epoch 7/10] [Batch 1200/1875] [D loss: 0.5852311849594116] [G loss: 0.9412266612052917]\n",
      "[Epoch 7/10] [Batch 1300/1875] [D loss: 0.6380068063735962] [G loss: 0.9006472229957581]\n",
      "[Epoch 7/10] [Batch 1400/1875] [D loss: 0.7007814645767212] [G loss: 0.9593208432197571]\n",
      "[Epoch 7/10] [Batch 1500/1875] [D loss: 0.6016967296600342] [G loss: 0.8563567996025085]\n",
      "[Epoch 7/10] [Batch 1600/1875] [D loss: 0.676948606967926] [G loss: 0.9273414015769958]\n",
      "[Epoch 7/10] [Batch 1700/1875] [D loss: 0.6514089107513428] [G loss: 1.021066665649414]\n",
      "[Epoch 7/10] [Batch 1800/1875] [D loss: 0.6595953702926636] [G loss: 0.9542896151542664]\n",
      "[Epoch 8/10] [Batch 0/1875] [D loss: 0.6794856786727905] [G loss: 0.9304500222206116]\n",
      "[Epoch 8/10] [Batch 100/1875] [D loss: 0.6773806810379028] [G loss: 0.9199937582015991]\n",
      "[Epoch 8/10] [Batch 200/1875] [D loss: 0.6439677476882935] [G loss: 0.9669205546379089]\n",
      "[Epoch 8/10] [Batch 300/1875] [D loss: 0.6560666561126709] [G loss: 0.972743034362793]\n",
      "[Epoch 8/10] [Batch 400/1875] [D loss: 0.6562516689300537] [G loss: 0.9203698635101318]\n",
      "[Epoch 8/10] [Batch 500/1875] [D loss: 0.6819911003112793] [G loss: 1.0233502388000488]\n",
      "[Epoch 8/10] [Batch 600/1875] [D loss: 0.6611146926879883] [G loss: 0.9561829566955566]\n",
      "[Epoch 8/10] [Batch 700/1875] [D loss: 0.6874357461929321] [G loss: 0.824148952960968]\n",
      "[Epoch 8/10] [Batch 800/1875] [D loss: 0.6454447507858276] [G loss: 0.8594627976417542]\n",
      "[Epoch 8/10] [Batch 900/1875] [D loss: 0.6823513507843018] [G loss: 0.7778809070587158]\n",
      "[Epoch 8/10] [Batch 1000/1875] [D loss: 0.708708643913269] [G loss: 0.9107379913330078]\n",
      "[Epoch 8/10] [Batch 1100/1875] [D loss: 0.6608916521072388] [G loss: 0.8622540235519409]\n",
      "[Epoch 8/10] [Batch 1200/1875] [D loss: 0.6505284309387207] [G loss: 0.9517253041267395]\n",
      "[Epoch 8/10] [Batch 1300/1875] [D loss: 0.6858055591583252] [G loss: 0.8048897981643677]\n",
      "[Epoch 8/10] [Batch 1400/1875] [D loss: 0.6882153153419495] [G loss: 0.9137800931930542]\n",
      "[Epoch 8/10] [Batch 1500/1875] [D loss: 0.6721104383468628] [G loss: 1.008833646774292]\n",
      "[Epoch 8/10] [Batch 1600/1875] [D loss: 0.6579343676567078] [G loss: 0.9819360971450806]\n",
      "[Epoch 8/10] [Batch 1700/1875] [D loss: 0.6525866985321045] [G loss: 0.9354479908943176]\n",
      "[Epoch 8/10] [Batch 1800/1875] [D loss: 0.6139132976531982] [G loss: 1.0704184770584106]\n",
      "[Epoch 9/10] [Batch 0/1875] [D loss: 0.6475329399108887] [G loss: 0.9462856650352478]\n",
      "[Epoch 9/10] [Batch 100/1875] [D loss: 0.5980614423751831] [G loss: 1.0293972492218018]\n",
      "[Epoch 9/10] [Batch 200/1875] [D loss: 0.7062290906906128] [G loss: 0.9317891001701355]\n",
      "[Epoch 9/10] [Batch 300/1875] [D loss: 0.6737658977508545] [G loss: 0.9575327634811401]\n",
      "[Epoch 9/10] [Batch 400/1875] [D loss: 0.6175411939620972] [G loss: 1.0198707580566406]\n",
      "[Epoch 9/10] [Batch 500/1875] [D loss: 0.6698553562164307] [G loss: 0.906453013420105]\n",
      "[Epoch 9/10] [Batch 600/1875] [D loss: 0.6369064450263977] [G loss: 0.8831787109375]\n",
      "[Epoch 9/10] [Batch 700/1875] [D loss: 0.6285567283630371] [G loss: 0.8221931457519531]\n",
      "[Epoch 9/10] [Batch 800/1875] [D loss: 0.6894491910934448] [G loss: 0.697252631187439]\n",
      "[Epoch 9/10] [Batch 900/1875] [D loss: 0.6696046590805054] [G loss: 0.9046779274940491]\n",
      "[Epoch 9/10] [Batch 1000/1875] [D loss: 0.6882386207580566] [G loss: 0.854188084602356]\n",
      "[Epoch 9/10] [Batch 1100/1875] [D loss: 0.6570228338241577] [G loss: 0.9970511794090271]\n",
      "[Epoch 9/10] [Batch 1200/1875] [D loss: 0.7209960222244263] [G loss: 0.8053774237632751]\n",
      "[Epoch 9/10] [Batch 1300/1875] [D loss: 0.6412029266357422] [G loss: 0.8251255750656128]\n",
      "[Epoch 9/10] [Batch 1400/1875] [D loss: 0.7315595149993896] [G loss: 0.892288863658905]\n",
      "[Epoch 9/10] [Batch 1500/1875] [D loss: 0.6433424949645996] [G loss: 0.8842065930366516]\n",
      "[Epoch 9/10] [Batch 1600/1875] [D loss: 0.661214292049408] [G loss: 0.9669393301010132]\n",
      "[Epoch 9/10] [Batch 1700/1875] [D loss: 0.6745204925537109] [G loss: 0.8448851108551025]\n",
      "[Epoch 9/10] [Batch 1800/1875] [D loss: 0.6533787846565247] [G loss: 0.9024467468261719]\n"
     ]
    }
   ],
   "source": [
    "# Khởi tạo mô hình, bộ tối ưu và hàm loss\n",
    "generator = Generator(latent_size, num_channels, image_size)\n",
    "discriminator = Discriminator(num_channels, image_size)\n",
    "cgan = cGAN(generator, discriminator)\n",
    "\n",
    "optimizer_G = optim.Adam(generator.parameters(), lr=0.001, betas=(0.5, 0.999))\n",
    "optimizer_D = optim.Adam(discriminator.parameters(), lr=0.001, betas=(0.5, 0.999))\n",
    "adversarial_loss = nn.BCELoss()\n",
    "\n",
    "# Huấn luyện\n",
    "num_epochs = 10\n",
    "\n",
    "for epoch in range(num_epochs):\n",
    "    for i, (imgs, _) in enumerate(data_loader):\n",
    "        valid = torch.ones(imgs.size(0), 1)\n",
    "        fake = torch.zeros(imgs.size(0), 1)\n",
    "\n",
    "        # Huấn luyện Discriminator\n",
    "        optimizer_D.zero_grad()\n",
    "\n",
    "        z = torch.randn(imgs.size(0), latent_size)\n",
    "        gen_imgs = generator(z)\n",
    "\n",
    "        real_loss = adversarial_loss(discriminator(imgs), valid)\n",
    "        fake_loss = adversarial_loss(discriminator(gen_imgs.detach()), fake)\n",
    "        d_loss = (real_loss + fake_loss) / 2\n",
    "\n",
    "        d_loss.backward()\n",
    "        optimizer_D.step()\n",
    "\n",
    "        # Huấn luyện Generator\n",
    "        optimizer_G.zero_grad()\n",
    "\n",
    "        gen_imgs = generator(z)\n",
    "        g_loss = adversarial_loss(discriminator(gen_imgs), valid)\n",
    "\n",
    "        g_loss.backward()\n",
    "        optimizer_G.step()\n",
    "\n",
    "        if i % 100 == 0:\n",
    "            print(\n",
    "                f\"[Epoch {epoch}/{num_epochs}] [Batch {i}/{len(data_loader)}] [D loss: {d_loss.item()}] [G loss: {g_loss.item()}]\"\n",
    "            )\n"
   ]
  },
  {
   "cell_type": "code",
   "execution_count": null,
   "metadata": {
    "colab": {
     "base_uri": "https://localhost:8080/",
     "height": 191
    },
    "id": "qovXzvQuCpmB",
    "outputId": "7c748d05-556e-40f3-e4fe-9f5b2d71d915"
   },
   "outputs": [
    {
     "data": {
      "image/png": "[encoded data removed]",
      "text/plain": [
       "<Figure size 2000x200 with 4 Axes>"
      ]
     },
     "metadata": {},
     "output_type": "display_data"
    }
   ],
   "source": [
    "# Tạo ảnh mới từ generator\n",
    "n_images = 4\n",
    "z = torch.randn(n_images, latent_size)\n",
    "generated_images = generator(z)\n",
    "\n",
    "# Hiển thị ảnh\n",
    "fig, axs = plt.subplots(1, n_images, figsize=(20, 2))\n",
    "\n",
    "for i in range(n_images):\n",
    "    axs[i].imshow(generated_images[i].detach().view(image_size, image_size), cmap='gray')\n",
    "    axs[i].axis('off')\n",
    "\n",
    "plt.show()\n"
   ]
  },
  {
   "cell_type": "markdown",
   "metadata": {
    "id": "QhH-590kTbXl"
   },
   "source": []
  },
  {
   "cell_type": "code",
   "execution_count": null,
   "metadata": {
    "id": "uZH-lVrvCsJA"
   },
   "outputs": [],
   "source": []
  }
 ],
 "metadata": {
  "colab": {
   "provenance": []
  },
  "kernelspec": {
   "display_name": "Python 3 (ipykernel)",
   "language": "python",
   "name": "python3"
  },
  "language_info": {
   "codemirror_mode": {
    "name": "ipython",
    "version": 3
   },
   "file_extension": ".py",
   "mimetype": "text/x-python",
   "name": "python",
   "nbconvert_exporter": "python",
   "pygments_lexer": "ipython3",
   "version": "3.9.6"
  }
 },
 "nbformat": 4,
 "nbformat_minor": 1
}
